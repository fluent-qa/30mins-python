{
 "cells": [
  {
   "cell_type": "code",
   "id": "initial_id",
   "metadata": {
    "collapsed": true,
    "ExecuteTime": {
     "end_time": "2024-07-05T08:28:15.355402Z",
     "start_time": "2024-07-05T08:28:15.324813Z"
    }
   },
   "source": [
    "import pandas as pd\n",
    "\n",
    "df_csv  = pd.read_csv('user.csv')\n",
    "print(df_csv)\n",
    "\n",
    "df_execl = pd.read_excel('user.xlsx',sheet_name='Sheet1',index_col=0)\n",
    "print(df_execl)\n",
    "print(df_csv.head())\n",
    "print(df_execl.head())\n",
    "print(df_execl.tail(0))\n",
    "print(df_execl.tail(1))\n",
    "print(df_execl.info())\n",
    "## without index\n",
    "print(df_execl.shape)\n",
    "above_40=df_execl[df_execl['Age']>30]\n",
    "print(above_40)\n",
    "\n",
    "## getting data from a range\n",
    "range_subset_df = df_execl.iloc[1:2,0:1]\n",
    "print(range_subset_df)"
   ],
   "outputs": [
    {
     "name": "stdout",
     "output_type": "stream",
     "text": [
      "   Unnamed: 0                      Name  Age     Sex\n",
      "0           0   Braund, Mr. Owen Harris   22    male\n",
      "1           1  Allen, Mr. William Henry   35    male\n",
      "2           2  Bonnell, Miss. Elizabeth   58  female\n",
      "                       Name  Age     Sex\n",
      "0   Braund, Mr. Owen Harris   22    male\n",
      "1  Allen, Mr. William Henry   35    male\n",
      "2  Bonnell, Miss. Elizabeth   58  female\n",
      "   Unnamed: 0                      Name  Age     Sex\n",
      "0           0   Braund, Mr. Owen Harris   22    male\n",
      "1           1  Allen, Mr. William Henry   35    male\n",
      "2           2  Bonnell, Miss. Elizabeth   58  female\n",
      "                       Name  Age     Sex\n",
      "0   Braund, Mr. Owen Harris   22    male\n",
      "1  Allen, Mr. William Henry   35    male\n",
      "2  Bonnell, Miss. Elizabeth   58  female\n",
      "Empty DataFrame\n",
      "Columns: [Name, Age, Sex]\n",
      "Index: []\n",
      "                       Name  Age     Sex\n",
      "2  Bonnell, Miss. Elizabeth   58  female\n",
      "<class 'pandas.core.frame.DataFrame'>\n",
      "Index: 3 entries, 0 to 2\n",
      "Data columns (total 3 columns):\n",
      " #   Column  Non-Null Count  Dtype \n",
      "---  ------  --------------  ----- \n",
      " 0   Name    3 non-null      object\n",
      " 1   Age     3 non-null      int64 \n",
      " 2   Sex     3 non-null      object\n",
      "dtypes: int64(1), object(2)\n",
      "memory usage: 96.0+ bytes\n",
      "None\n",
      "(3, 3)\n",
      "                       Name  Age     Sex\n",
      "1  Allen, Mr. William Henry   35    male\n",
      "2  Bonnell, Miss. Elizabeth   58  female\n",
      "                       Name\n",
      "1  Allen, Mr. William Henry\n"
     ]
    }
   ],
   "execution_count": 26
  },
  {
   "metadata": {},
   "cell_type": "code",
   "outputs": [],
   "execution_count": null,
   "source": "",
   "id": "687c3d9a8d7982ec"
  }
 ],
 "metadata": {
  "kernelspec": {
   "display_name": "Python 3",
   "language": "python",
   "name": "python3"
  },
  "language_info": {
   "codemirror_mode": {
    "name": "ipython",
    "version": 2
   },
   "file_extension": ".py",
   "mimetype": "text/x-python",
   "name": "python",
   "nbconvert_exporter": "python",
   "pygments_lexer": "ipython2",
   "version": "2.7.6"
  }
 },
 "nbformat": 4,
 "nbformat_minor": 5
}
